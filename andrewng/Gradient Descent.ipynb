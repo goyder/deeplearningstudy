{
 "cells": [
  {
   "cell_type": "markdown",
   "metadata": {},
   "source": [
    "# Gradient Descent\n",
    "___"
   ]
  },
  {
   "cell_type": "markdown",
   "metadata": {},
   "source": [
    "Gradient descent underpins a great deal of the world of deep learning.\n",
    "\n",
    "Some further links of interest:\n",
    "\n",
    "* [An overview of gradient descent optimization algorithms](ruder.io/optimizing-gradient-descent/)"
   ]
  },
  {
   "cell_type": "markdown",
   "metadata": {},
   "source": [
    "## The fundaments\n",
    "\n",
    "For a given cost function, $J(w)$:\n",
    "\n",
    "$Repeat\\, \\{ \\\\\n",
    "w := w - \\alpha\\frac{dJ(w, b)}{dw} \\\\\n",
    "b := b - \\alpha\\frac{dJ(w, b)}{db} \\\\\n",
    "\\}$\n",
    "\n",
    "In the context of code, we might abbreviate $\\frac{dJ(w, b)}{dw}$ as `dw` for brevity."
   ]
  },
  {
   "cell_type": "code",
   "execution_count": null,
   "metadata": {},
   "outputs": [],
   "source": []
  }
 ],
 "metadata": {
  "kernelspec": {
   "display_name": "Python 3",
   "language": "python",
   "name": "python3"
  },
  "language_info": {
   "codemirror_mode": {
    "name": "ipython",
    "version": 3
   },
   "file_extension": ".py",
   "mimetype": "text/x-python",
   "name": "python",
   "nbconvert_exporter": "python",
   "pygments_lexer": "ipython3",
   "version": "3.6.3"
  }
 },
 "nbformat": 4,
 "nbformat_minor": 2
}
