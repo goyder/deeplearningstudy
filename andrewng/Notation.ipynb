{
 "cells": [
  {
   "cell_type": "markdown",
   "metadata": {},
   "source": [
    "# Notation\n",
    "___"
   ]
  },
  {
   "cell_type": "markdown",
   "metadata": {},
   "source": [
    "## Reference for tricky symbols\n",
    "[Tricky symbols](http://web.ift.uib.no/Teori/KURS/WRK/TeX/symALL.html)\n",
    "\n",
    "[Table Generator](http://www.tablesgenerator.com/)\n",
    "\n",
    "[Fonts in Latex](https://www.sharelatex.com/learn/Mathematical_fonts)\n",
    "\n",
    "[Integrals, sums and limits](https://www.sharelatex.com/learn/Integrals,_sums_and_limits)\n",
    "\n",
    "$\\mathbb{R}$ = `$\\mathbb{R}$`"
   ]
  },
  {
   "cell_type": "markdown",
   "metadata": {},
   "source": [
    "## Binary classification\n",
    "$(x,y)$ = training set, where $x\\in\\mathbb{R}^{n_x}, y\\in{0,1}$\n",
    "\n",
    "$(x^1, y^1)$ = single training example\n",
    "\n",
    "$x$ = feature vector\n",
    "\n",
    "$X$ = $\\begin{bmatrix}\n",
    "    \\vdots & \\vdots & \\vdots &        & \\vdots \\\\\n",
    "    x^{1}  & x^{2}  & x^{3}  & \\dots  & x^{m} \\\\\n",
    "    \\vdots & \\vdots & \\vdots &        & \\vdots \\\\\n",
    "\\end{bmatrix}$ = sum of feature vectors\n",
    "\n",
    "Note that we have $m$ samples as columns and $n_x$ features as rows. In Python, this comes out as `X.shape=(n_x, m)`.\n",
    "\n",
    "$Y$ = $\\begin{bmatrix} y^1 & y^2 & y^3 & \\dots & y^m \\end{bmatrix}$ = sum of labels. \n",
    "\n",
    "In Python, this comes out as `Y.shape=(1,m)`.\n",
    "\n",
    "$m$ = number of sample pairs\n",
    "\n",
    "$m_{train}$ = number of sample pairs in train set"
   ]
  },
  {
   "cell_type": "markdown",
   "metadata": {},
   "source": [
    "\n"
   ]
  }
 ],
 "metadata": {
  "kernelspec": {
   "display_name": "Python 3",
   "language": "python",
   "name": "python3"
  },
  "language_info": {
   "codemirror_mode": {
    "name": "ipython",
    "version": 3
   },
   "file_extension": ".py",
   "mimetype": "text/x-python",
   "name": "python",
   "nbconvert_exporter": "python",
   "pygments_lexer": "ipython3",
   "version": "3.6.3"
  }
 },
 "nbformat": 4,
 "nbformat_minor": 2
}
