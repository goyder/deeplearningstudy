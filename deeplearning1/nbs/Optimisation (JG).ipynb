{
 "cells": [
  {
   "cell_type": "markdown",
   "metadata": {},
   "source": [
    "# Demonstrate some basic linear model, and tune it."
   ]
  },
  {
   "cell_type": "code",
   "execution_count": 1,
   "metadata": {
    "collapsed": true
   },
   "outputs": [],
   "source": [
    "%matplotlib inline"
   ]
  },
  {
   "cell_type": "code",
   "execution_count": 48,
   "metadata": {},
   "outputs": [],
   "source": [
    "from numpy.random import random\n",
    "from matplotlib import pyplot as plt, animation\n",
    "import numpy as np\n",
    "from IPython.display import HTML"
   ]
  },
  {
   "cell_type": "code",
   "execution_count": 3,
   "metadata": {
    "collapsed": true
   },
   "outputs": [],
   "source": [
    "def lin(a, b, x): return a*x + b"
   ]
  },
  {
   "cell_type": "code",
   "execution_count": 4,
   "metadata": {},
   "outputs": [
    {
     "data": {
      "text/plain": [
       "1"
      ]
     },
     "execution_count": 4,
     "metadata": {},
     "output_type": "execute_result"
    }
   ],
   "source": [
    "lin(1, 1, 0)"
   ]
  },
  {
   "cell_type": "code",
   "execution_count": 5,
   "metadata": {
    "collapsed": true
   },
   "outputs": [],
   "source": [
    "a = 3.\n",
    "b = 8. # Note the use of the decimal places to mark these as floats."
   ]
  },
  {
   "cell_type": "code",
   "execution_count": 6,
   "metadata": {
    "collapsed": true
   },
   "outputs": [],
   "source": [
    "n = 30\n",
    "x = random(n)\n",
    "y = lin(a,b,x)"
   ]
  },
  {
   "cell_type": "code",
   "execution_count": 7,
   "metadata": {},
   "outputs": [
    {
     "data": {
      "text/plain": [
       "array([ 0.32660225,  0.85916867,  0.19612388,  0.6134003 ,  0.73054441,\n",
       "        0.33341656,  0.12312117,  0.42864652,  0.88728003,  0.38613053,\n",
       "        0.71728508,  0.77952704,  0.28962022,  0.55987877,  0.94243673,\n",
       "        0.00832879,  0.31047328,  0.18190157,  0.09316949,  0.82851771,\n",
       "        0.53370547,  0.99539484,  0.86071197,  0.57451031,  0.96964272,\n",
       "        0.22727702,  0.711865  ,  0.19445371,  0.10986658,  0.4155403 ])"
      ]
     },
     "execution_count": 7,
     "metadata": {},
     "output_type": "execute_result"
    }
   ],
   "source": [
    "x"
   ]
  },
  {
   "cell_type": "code",
   "execution_count": 8,
   "metadata": {},
   "outputs": [
    {
     "data": {
      "text/plain": [
       "array([  8.97980675,  10.57750601,   8.58837164,   9.8402009 ,\n",
       "        10.19163322,   9.00024967,   8.36936351,   9.28593956,\n",
       "        10.66184009,   9.15839158,  10.15185524,  10.33858111,\n",
       "         8.86886067,   9.67963631,  10.82731018,   8.02498636,\n",
       "         8.93141983,   8.5457047 ,   8.27950846,  10.48555313,\n",
       "         9.60111641,  10.98618453,  10.58213592,   9.72353094,\n",
       "        10.90892816,   8.68183105,  10.135595  ,   8.58336113,\n",
       "         8.32959973,   9.24662089])"
      ]
     },
     "execution_count": 8,
     "metadata": {},
     "output_type": "execute_result"
    }
   ],
   "source": [
    "y"
   ]
  },
  {
   "cell_type": "markdown",
   "metadata": {},
   "source": [
    "Note that the above demonstrates the flexibility of Python and the advantage of using NumPy arrays!"
   ]
  },
  {
   "cell_type": "code",
   "execution_count": 9,
   "metadata": {},
   "outputs": [
    {
     "data": {
      "text/plain": [
       "<matplotlib.collections.PathCollection at 0x7f29382d2f60>"
      ]
     },
     "execution_count": 9,
     "metadata": {},
     "output_type": "execute_result"
    },
    {
     "data": {
      "image/png": "[encoded data removed]",
      "text/plain": [
       "<matplotlib.figure.Figure at 0x7f293832d390>"
      ]
     },
     "metadata": {},
     "output_type": "display_data"
    }
   ],
   "source": [
    "plt.scatter(x,y)"
   ]
  },
  {
   "cell_type": "markdown",
   "metadata": {},
   "source": [
    "## Define our loss functions"
   ]
  },
  {
   "cell_type": "code",
   "execution_count": 10,
   "metadata": {
    "collapsed": true
   },
   "outputs": [],
   "source": [
    "def sse(y, y_pred): return ((y-y_pred)**2).sum()  # Sum of squared errors\n",
    "def loss(y, a, b, x): return sse(y, lin(a, b, x))\n",
    "def avg_loss(y, a, b, x): return np.sqrt(loss(y, a, b, x)/n)"
   ]
  },
  {
   "cell_type": "markdown",
   "metadata": {},
   "source": [
    "Questions:\n",
    "\n",
    "* Which of the above functions are for single points and which are array-wise? Is there really a difference?\n",
    "* Why do we have a 'loss' and 'avg_loss' function?"
   ]
  },
  {
   "cell_type": "code",
   "execution_count": 41,
   "metadata": {
    "collapsed": true
   },
   "outputs": [],
   "source": [
    "a_guess = -1.\n",
    "b_guess = 0."
   ]
  },
  {
   "cell_type": "code",
   "execution_count": 42,
   "metadata": {},
   "outputs": [
    {
     "data": {
      "text/plain": [
       "10.095383064785864"
      ]
     },
     "execution_count": 42,
     "metadata": {},
     "output_type": "execute_result"
    }
   ],
   "source": [
    "avg_loss(y, a_guess, b_guess, x)"
   ]
  },
  {
   "cell_type": "code",
   "execution_count": 43,
   "metadata": {
    "collapsed": true
   },
   "outputs": [],
   "source": [
    "lr = 0.01"
   ]
  },
  {
   "cell_type": "markdown",
   "metadata": {},
   "source": [
    "How does our optimisation work here?\n",
    "\n",
    "~~~~\n",
    "d[(y-(a*x+b))**2,b] = 2 ( b + ax - y) = 2 (y_pred - y)\n",
    "d[(y-(a*x+b))**2,a] = 2 x (b + ax - y) = x * dy/db\n",
    "~~~~\n"
   ]
  },
  {
   "cell_type": "code",
   "execution_count": 44,
   "metadata": {
    "collapsed": true
   },
   "outputs": [],
   "source": [
    "def update():\n",
    "    global a_guess, b_guess\n",
    "    y_pred = lin(a_guess, b_guess, x)\n",
    "    dydb = 2 * (y_pred - y)\n",
    "    dyda = x * dydb\n",
    "    a_guess -= lr*dyda.mean()\n",
    "    b_guess -= lr*dydb.mean()"
   ]
  },
  {
   "cell_type": "code",
   "execution_count": 45,
   "metadata": {
    "collapsed": true
   },
   "outputs": [],
   "source": [
    "update()"
   ]
  },
  {
   "cell_type": "code",
   "execution_count": 46,
   "metadata": {},
   "outputs": [
    {
     "data": {
      "text/plain": [
       "-0.89142175527501188"
      ]
     },
     "execution_count": 46,
     "metadata": {},
     "output_type": "execute_result"
    }
   ],
   "source": [
    "a_guess"
   ]
  },
  {
   "cell_type": "code",
   "execution_count": 47,
   "metadata": {},
   "outputs": [
    {
     "data": {
      "text/html": [
       "<video width=\"500\" height=\"400\" controls autoplay loop>\n",
       "  <source type=\"video/mp4\" src=\"data:video/mp4;base64,AAAAHGZ0eXBNNFYgAAACAGlzb21pc28yYXZjMQAAAAhmcmVlAABauW1kYXQAAAKuBgX//6rcRem9\n",
       "5tlIt5Ys2CDZI+7veDI2NCAtIGNvcmUgMTQ4IHIyNjQzIDVjNjU3MDQgLSBILjI2NC9NUEVHLTQg\n",
       "QVZDIGNvZGVjIC0gQ29weWxlZnQgMjAwMy0yMDE1IC0gaHR0cDovL3d3dy52aWRlb2xhbi5vcmcv\n",
       "eDI2NC5odG1sIC0gb3B0aW9uczogY2FiYWM9MSByZWY9MyBkZWJsb2NrPTE6MDowIGFuYWx5c2U9\n",
       "MHgzOjB4MTEzIG1lPWhleCBzdWJtZT03IHBzeT0xIHBzeV9yZD0xLjAwOjAuMDAgbWl4ZWRfcmVm\n",
       "PTEgbWVfcmFuZ2U9MTYgY2hyb21hX21lPTEgdHJlbGxpcz0xIDh4OGRjdD0xIGNxbT0wIGRlYWR6\n",
       "b25lPTIxLDExIGZhc3RfcHNraXA9MSBjaHJvbWFfcXBfb2Zmc2V0PS0yIHRocmVhZHM9NiBsb29r\n",
       "YWhlYWRfdGhyZWFkcz0xIHNsaWNlZF90aHJlYWRzPTAgbnI9MCBkZWNpbWF0ZT0xIGludGVybGFj\n",
       "ZWQ9MCBibHVyYXlfY29tcGF0PTAgY29uc3RyYWluZWRfaW50cmE9MCBiZnJhbWVzPTMgYl9weXJh\n",
       "bWlkPTIgYl9hZGFwdD0xIGJfYmlhcz0wIGRpcmVjdD0xIHdlaWdodGI9MSBvcGVuX2dvcD0wIHdl\n",
       "aWdodHA9MiBrZXlpbnQ9MjUwIGtleWludF9taW49MTAgc2NlbmVjdXQ9NDAgaW50cmFfcmVmcmVz\n",
       "aD0wIHJjX2xvb2thaGVhZD00MCByYz1jcmYgbWJ0cmVlPTEgY3JmPTIzLjAgcWNvbXA9MC42MCBx\n",
       "cG1pbj0wIHFwbWF4PTY5IHFwc3RlcD00IGlwX3JhdGlvPTEuNDAgYXE9MToxLjAwAIAAABNuZYiE\n",
       "AD///vdonwKbWkN6gOSVxSXbT4H/q2dwfI/pAwAAAwAAAwAkAvzHv6EHQzQgAABQic/gsldNQVEG\n",
       "rVWJETueZW6CveofCONurjKq1mcfZ0P89EfiowXffzerReILorurz0Hw00X7IHiVKxzwYDZD0QxJ\n",
       "mjjow9WXmubobDkAApf6P9f/zQDQK1QxvXMOnZw16pZFwBoo4a70ZHGuydiJj5gKF/TWaPWMVZuK\n",
       "n2/OX0SVbWeTphZDM2bfYO+sv5bqgrAxTrL8WmawMMzxeZLU0PAQSutseBuYf1UWdRC8wt2fTI71\n",
       "5tyqZmpJQoZri4TOKqSfbzEfulFIRpfVoQQQIafTcAN8Uh4X6BpxI4BO0vJ3Dkvg0FnJakfX/41k\n",
       "2W99covwk6hTd2jIWhvQx/6F/u53KzMr5/8IT6B9RqKZwp0c3h9tJeogJAI9d7P1swCoACTPwv44\n",
       "i5/rlzCgyh+mYRNx6Z6eCf2GSSEb3PyC58MnMvWDypcwP2p5dTx7+hr/000ZtVBIxZV4L4m+uvdN\n",
       "biGRj/oKPCP4eCJo5RgIEXMJiMUFuo6yVUAfSHVzbDgDgw4a6a6btri3Wm2N7XWHeMPLfvJYJMGe\n",
       "Q5hp1tjRqBgRbefYQeS19Jf8Rs6/doz9lE9HPnrot+/klQLcgjrcyWyMV5VVu+qX2/jUQCqYb2jd\n",
       "3u0tXyvFjhFOGvjem44U+0eu45IqIz1uLzJBz5pdXf1hUx0CL2AGed17A7wHoZCW3Ok22xgWoWcg\n",
       "CicwPJP8LldFsWjaVi1+6IjKY7qo91Q18zUC2lvdX0qdp88ofVRXvU70hMCaKsnni1OMH6cbadmt\n",
       "vO+YtwFWx9CUe5LgRD67m3S90Krk6SQXImPU7JJ4k8k/GUTT9m6l/jaLPqsg8yURALMBVR4W719J\n",
       "ABZtxXJ6yxSozGRTIiDeGcwSzBpMJVerp1DdJe9zWlvre6OigS6ThfPInAKDHPb6YOfuk1PFCUWK\n",
       "+5RPPGyz4cuAW2MOwe6R3mtdCUOUWQjSQGZKfek1F+AtXO8EMJJkccQYv/bfuDFfWdTmUbcbxaLp\n",
       "R+qXrvE9uzeBvbYO9kcOXXPcdm+ejss1grtTqxX53Sly2fLw+OaFom8V1jMExIp2d6TlbjcF85IF\n",
       "BxoU05Xd1K22V1fR7fdQYQs/eOs0lOKRj2gRb23BXMVIsmLXqKJi9dVQuFnY+Zm9Q76fMBVzjQwB\n",
       "y8i1oWfl5EuVZgzyE31FHkrcFa7C8oggWgrH3Leqo0rmxZ/OujWvHUSyhGRFkATonVj0gBwB62dV\n",
       "gdNf+kjVg5fMiL8/TViyUs8yKq/M8ZDwHHbyr75UJhd+PPKOBjEJCNWmX9DXRHvxkCYmdfeJCBrz\n",
       "j9bFbrOqhW3DqdlFX5xtSxlaLO+cG7SXDL/9bOhJS5cDJk9w5QV+QZ8qfZ1q/oVDLHz27T8Cpl/t\n",
       "Fsw8V+IghYt4i8oAAE5lpg2Nau8FS2Cx5L6Xl5Fzi20U65PSgh1JUKaScKNSWzq3Hio+i2Oq1eAF\n",
       "N2N7zk3v4wRcBJWMI3vihexuQueaUZzLAMkQTleWD8Oe+rXbOYkW7EQ3UI1Rwj1zp0HGqLQ57pxK\n",
       "r9ZszYUfTiZUPamVe9pox7gxpViPawirPCzRH79RXlXobuk+Vn7eHutXdS0Q9YkJvXFPEWrBcBx5\n",
       "w5i8J+7pdBirdK4NoPAvzyJG9qLoE+CMjyZuBIAa7/DJ84hosUDBeC7YFb2Vcz1QNtgUl+fhL8QQ\n",
       "DJAyZp5AwUdo6ymLIYsDUH4P+7SsEfcMo78g0P2XgxNvp9yzk5JyYrp+grA6U3uKvTLxHmocxT6f\n",
       "zViShnyLa4+9KZwmgypmyrx6OLifVIh5VhQSvWE/a+2PVz4XGn2+MZ3f/26j/w7juz61Qhi2jkSk\n",
       "MN6teqSiR1X1+RTq2XvWnxBkm9QbPU03dCccKuQl4bWfVUJ4Y4ROnjcpVqBpHORa4ZH5ekOnpC8O\n",
       "E2sWkYj4argxbS63BZgSi0YP9R3AEMwXT2kttvxZqGQQqXnoWJ8Vx/VA/le96wmxbBSM5vU3g24Z\n",
       "FYxs6zTIsphvGXn0G96hCVzZ5vgV3lkGI8WFDtiGLGVGS6JemOcxJq5RRjQuXx6u8KTRcIYewWAf\n",
       "Yy52OQRi4Z0japKLaWD/P9/vb5cxI6SD7TQyiSuLsPOMGwBLPJj7ea9IY2Sk98Faj+GG/cUl8MGG\n",
       "SOiabj/9OULOIo1O0nqZYccF2JHesq6/1Qu6KWC96PXObas1TeGnJWxUOs38Vj+tLiBZ61tFnoVX\n",
       "eMPlukRHQSj7xIGxgnxFTnhqoNjEU4DTLKHbRfPirS7aAyVSrK5JkFURebTLC2yotdHDtW5SdYho\n",
       "6pt8vkPt/R5NdRuW7Pn6ha40O6J4/ZRreqRboX1ItrYFowHHqhpcrVj7AqCrOINf4sn6Zw7e0QR7\n",
       "JQwY14j9aojNyyMSxStDWA+Kkk8meCC6G9bVEYu12DdWyxCHExvka7W6T2qCRgmg+w/UjWiH0w5M\n",
       "DgutiXUgWoAMLbCS1ZHZAe+Cs3rQQ+bIty20eM4b0t1oBdlyFepYoOINZ0+8M8sh6fBrbUB6bLL/\n",
       "oA0B6ZJY/BfsSFE0+RHCCd02h2b/+YxUV7NULVerMFYh71BRRNEJ7N43ksEAYsR72oP0LASqMndt\n",
       "a4NyOWurvMTIhIRc24+Kj/3wTrTJqznFpo5y8JI4RtcBujvMP7Q/blo+EOa7ZUqzfMYL/QSZ1hei\n",
       "UmBs5X+yhvQWXF44ZOT6oqiYnWtvJZj3r5pxpOnegreUPy0XClKdrC6TRuHwByQaRPy4T7QGE4w1\n",
       "um/9F41hoDwocW/bzTCx6vUak8KUVfbgq27e6Dc48MrtSC8yT1Q4JLkTNfTDzWYFIBs4aCszBg7v\n",
       "4um0d2rZXm8VXsXwZP7Z11YogQINBYEhO12/4mgeZy9TeuChunvRHAMc8I7Ny2uYaPX1jU6nIgYe\n",
       "6SDRaTSH0sbRG17beoolxjEErLgvAiXPV22vqlOKrQ9pA+f2qGhXy7r4eJupXyprxiHuPUdUqef6\n",
       "AifxKg1Fy2hfKjy+z+WzYxy7I+dljCaXvXyH/7CSii5l543wZ9yKzNh1azkqX4+H1/qH+mhoPHr9\n",
       "UUXfs+e5c5eAZkZtQCfTMThutjtOE7lRFT+HvT/H5Eqr3ZZKsqcLMgud5e4JvnQuo3W5P9v6LICC\n",
       "MjdVW/qG/COv0VNSIBtnX5LCrmZHQmsLHwWz7X4vcuiceSGGuebRxHHWwhQvzmqm5rhuj4K19m7s\n",
       "WFy8DoXqudcUCT/SQErlQW3yFKVwxmw0kik7aGPAZeETFgqIGUdvaEEmL5ZS99xoaUVufpskCZdK\n",
       "0vMvOrDT+atW64EyWSygQjuh81LLVM1/evzZLNgSOAEzfYej+wGQJdVrFnJxJ9FQ+CsN9o5QbEXU\n",
       "64iCz9JVxSeBm8QPqnsBxz+bNTtAWGNCyCgeXMMFSAIPlaci8UtjputwCA+AeEIiy2Sop0KTcsM2\n",
       "zuS300h3SZHIDsjtOT1GMIpg0Vq8AOgICX0ZehWwugKH7cPYaQ4suYgNzXjos5hPsewTv1eKdD38\n",
       "pjWgiOrTDsVdSObW5+dNKGCees3v0SI0dJ1ORCifuH8U22XdapdABH9OUUVINJxyv0YNrP8tk9L8\n",
       "O+I+iEHMHTFg+SIMEN2x6d9Co+bLAMg8T5pzy5TAvEHIFzLWG47w0ouk+qSzDJ85WqgFIsKl7z4e\n",
       "rUnEnDy9KtwlQxcK501hsNpEoeKH1EwjIWUa01bqcavC9T39Kt+fVqEuxZ7npN49n+k87PIVwKbK\n",
       "9LlABs3Bcf8/XX4UW7UkdJpWqs6ZRKpg7y7j9hyYtAmSMn8y2OeUvhhSFrLcgCOYu1RrNMQ73Kkc\n",
       "IqtSkQH1wBpCEK52JLBC1ebUn9wIpAbQ90n51pE+Kp9SgFkAy5qRCACFgfoQVmXZJcuRya9sZiLR\n",
       "yD4pHrWruSNP+pwpxW80EJvKRm78GB+S17cgEb+alnequF9mWFhzlKWXT+8gGBfQ7j18gmaYFy/v\n",
       "I46Phq/XAxThkan8L95EZ5IJ2Gzie33I4K98gZX//hrhhMUTEWmDzaIyUy9mOxTniRbqvQoqgRqa\n",
       "DZvFxsImHQUoySgT3oMKKs67ULoQWpaCc1llrBmMBBU69oXMQ6nbviN2c9PBdQcrje9PGgxjU67V\n",
       "LQhMLNqLeu8m1RkWEaOqrj9JsN1l+12F2ixafsr2m0Z3puRf98cPNDgpHOifs/kbBG6cfNQtj6ZR\n",
       "cLwEWS347hiwpAu8Qp2HSCxDwxscWe7iKYKqq7C7VGNtot+3lzutUMAApvdumB/El2ASUeD9di81\n",
       "cBHJr22KXErM0AakNdrURxmLYVYqulFjo8UXKxmWtsrkAF2QAca0xkKjc6TWkAlkniCGhZWpdeKn\n",
       "aLVwKUpEqA/2SzGP0dqC/7UYKDEf57JnPuWiPSI04y8cxRP3XhAgSUmZeDQ3Hufl53iM/BHr2w3q\n",
       "MDqT6gEYbCau98celY06Yuu5ZI0qLek20G/ZOTur7+G/3Lo2Hafm3w94M06+AB8sZTVcG/W8TatR\n",
       "LEor8uMtlFvaw3T9VhoG6U1L2h1uBM5/y8CboEX6sHNoQUslmblR38hFXNWGjlbyZAYDp6t5HA03\n",
       "5c+3oRwU8TFHPH8g933zAg09gIwAEwVZeFLNp0Xl7uq5H02PXEfwccsgZQy5E022f+tp/lJ6dbaS\n",
       "8z4gmF9dujRzYLO1jqrEDRWEoJUZaoBGYMIGfuBYVhk0Jc/qhkrIeUr+RSAs89dlcH0nx07E7xVn\n",
       "a9cHuk0t/sPhgf3SBCote18YeQGkH5kQuzBHQ6vguiIa3zCh1JG83jycV1mEuMRQQdvUOkB+SFPr\n",
       "KHpu1p/L7yZcwrW2TrhZguhJHSk43tykMgJRgYuatoY7PMqkF6cnx0x7VtB9fSpGXXqD1IflQ8o2\n",
       "6u3hfRl80r1wGBayV1S1uqtJtfGqLdf9JcikM4mJVKk9BHgtRj+s3Pd7aZlgIPko2j2HooCLruQf\n",
       "2sDSQ0IjH6wYmsWGl/of5z9kanwS3PRT5wCWWJe9HHfRgpwIw3b5TpVb0uZb3D+T8F6oFlycH4Cp\n",
       "4sAwA5V83qUMin+YpCvLvQrFBHmH88CibsFQv2VVThsLqmyzJmJaC6aAkfjIhnShd8peP1V8LXsn\n",
       "KFDX4oCSF+UOf1T/dPkCpGSZf15lIGzeXrBtARB7PtVrDgo9svCKY70uiwrO4h6nbKD2y7MtNSnB\n",
       "aamFaWjd0p6/vyDiueBKEmf5NDoyrVVNfOYDrww0mCieu7aGZYlqJAw5NIv54FHWRgzqv2EyUnLn\n",
       "I7ZfTXwXZn+5/4xerJfTy1cbKRc5KtjxsXmo7F9UhmTgsuTV2vzsHepkK1kvK75I+dZ3PCtQyWa+\n",
       "pEXMrDNTGUDlt9r556aEzWbwxlfNOd2qX45mHgaYRoqR8E24MNpLtxySzYz6SH/sUOD9tovNrW+s\n",
       "bo8AYL+/DDpD6ZqHmk4rrK0Y49WObQkODZaCWso0vtHzD/JUe3ilEzd9/rOFA33SZ8HeQ2BUQ/Tq\n",
       "AlIWx7llvem02w+NXUXCLtz+KZr76NP7pVJq/bJqxmCapysQmv9sB50oyOxgI9ocoASX3pnK1bIy\n",
       "jXsPJb2mh8LJBn3hrhJrnH/7+bB+YCGSUSl35d07k3FVH1GMzK5hAzaxVJAFMSv2GBwhqXhKj0Ti\n",
       "ShFWunQXg0uxinAGbYGYjSQCDW+jKmypge/3wCvx052Oh5lNigqTCASJepkTq8/zTPl5OXd5J82f\n",
       "UmF0HmifFKSbnbDIAJXkVmjDzVvFG5Xswsbpd70WtJZLDc6zAy+5lgdgOTCQ2YeLhGTvu12L6CGq\n",
       "jrUfysZqe0ohS6U5AdA2SvUqLmGwmEtPHntUbI6788jFuuYoGS74+r1XQW6N34ceuXaOZ54kJgRF\n",
       "mpXOjuxFltQcbQ3+X13vB/M9aDVDpMur8gBj0jGTncXbhuGoO7N0bYgaJO3Sf41KTJWz8kQLiLZr\n",
       "pkFoLLFUx9C01Ru31H88x2wvzQNwI399UxvoFQzyXC+Gq6JTzFYSMagrBrVuO2y7IfkrLmcLY0De\n",
       "kig1VXD0VNkQeWG5sZi4tnd3+ZSHzkUEg3K1hOSfWKIbMW93xELT27v3AUK0HEOp8PDL6poG8LHq\n",
       "+DFlOy4uFysIKNk8/V134yz1mDA6xPL95nTBk0Oa36HDxzu9MsP1tMJcCGlYK4PrihRe6AdaiVyn\n",
       "2jVwAu3i/JDodRZww0Xmum/ltir7bbz6gwDExAG4f553PNV4MmTeHYoSNBNYWWS0cDCv7DEPvAY0\n",
       "QFbN2qKc8rT7cEvTF8VRbkwypJyBM70vZKuO2vvSUda/0OCscJUnsd8ll5YWmz8IG1qfuhKISQog\n",
       "Jrs/MCFuf4LCrx7LsH8avx7njG9hcqCMRtP/IReNqXLsIxrblDKqlskAe8Usb0nl34T3NxDZACEa\n",
       "8aGwekza3pRbzKyXalj2jVKYdZiV5wwZacAdfiIGutehqLKyxzSrRKvPKDtxeZj1CW74YItu1x3w\n",
       "+tl0MHXHtN3pI2mZxR+rJnPTbTN9iEEWJTPbTZNhEn0iP4kjPN9VqkDqbkUAYts1qfp7NYmBCf+v\n",
       "8t2KUO7UE7AAAIuBAAACskGaIWxD//6plgAqYc+gFqFMgukKUBiqPyt661SKK+zvRwHW4B4lCCPx\n",
       "iO5x9ZfFC3xNYordUfeQHPuq8pEl1171JVzd/D5RyGjhIhpAwGN1MvUwGOd899sF1OhKh4yNBNJ1\n",
       "7N7DnJ0Ww7JEvYoajcRadv98FS9vYJYql2EuxMhdVtEF3WfIsgSNSC8RzppRNNVLSx0BuFBW7oaA\n",
       "/OP9X9O/3lBM0xS3hwHh3nnOIwdCgk0ISHHP4iUvVk24f7tH59ohRsOYG3NGmJQr91MjptNCnX8K\n",
       "IjEVY4AqlUZLxMicnfUzHaQ3yG5HDCUTJ08QAR3BkRqixm5B3/uCjuouAbW8xFtvHdUHa49xArX7\n",
       "tVzUbeJinWmTKdfzFFeT26XIHNktBTNx1kEzJiW0X1v6V6aqfLPNyoov4A64z6oMC8LAQ2jEWuez\n",
       "hVhFFCg39vhireOJq9uk/FsAjAt0B+icKt0/D3157rJnMiqgMo/r7UqZGiBR9GRtN/5B49DkbxVU\n",
       "9+45qOQm1lfe4yTcLflh+kaxoooZ1LJ2nHIX70nCljFbvHPvTLLYIXCKvLS/bZfH09gB7oJhxNgR\n",
       "zYwJk+4GIaDZhZa5qotGISl3EKR2bVbGzkQ+nfdw/jHf/Z4jkO7N5x+UN9EmdmPk4zMyMsWfs5ej\n",
       "+Hr7mXFaey+/CHHTCm/go2nEZciFkWe48SJm8PjkN8Eww5OxxByyJxKAnmDbiwsvocShnT7mRGwN\n",
       "+ufcfIfjrzsE52OOAkPtmVfQ+VdV+LkCc0qy7+ECJpvvqTqbhxem8mktnMtwFCHzSdzNhMxfj+0Z\n",
       "1ZscdVyEZGHAqT4+vQAB51lxP/AADylQDBc5Md5Tn/1XPa1adH/fI+rTuiWO9z+TlhOyfWHrB8Kg\n",
       "hPeLACa4Kj70Sz6QATOzimfWPvnxQAAAAy9BmkI8IZMphD///qmWAAjB3fBIlkQtPtz+Ec+CHxQ8\n",
       "qVRoJ6LAlpJEXGRoELYEkzDS0ffBpPPYnkB/Sw8H9iSDmnyhcQAyga1sA7C+LUZHem2iCXKJjIMt\n",
       "7843X/ktG2hziw9bQl0ooBSdgCiTt94PdaFdxu5bcmtgMTzSnJi44GjKOHzt6AygS0vmJ/XxDUmn\n",
       "lab/nByN8skJ+1jTph1oBm4Vqfr4ZOkvYJhuriSP0JFQJ5adI73TWR/c1ZgwMIDERWT0JalNr/IL\n",
       "MfjZzHWgRshfIk1fuJogvNYki2jaj+qrWd6HvXlanLO4k90tDwRjRjYqA3xO2eSXFgbO5weRgKrP\n",
       "MLpA8K2v5Ovoi8PAkyVPhbM5pHSA87DCrI511MbmW6q1BMQD05NJ66agXUbbM1p6QgMf36Q9x/EV\n",
       "cnvhdHDceAocI14jwjlZBpORBlSbxNWcjcnWFs2cdT98SifdBZeSIQZzdSgMOSUMHnI+8lmuAXZ0\n",
       "ZKhvIyHTPiM9SYA6VVNtIj7T14tpXcGfcQpfSyVq2w1tAGZ4D8CXDidXRRhag/57Ddf7inVzmzeD\n",
       "WUkTQfeBK2+MSE4IRN1XZTArcQxIlOtfmEuuV+zqFylWCw38MUkbDDa7/iHU3aucZeCY6JI4aNkK\n",
       "I6OCDlBOY6oOoqyVjBNELPDl7P+QmhxjLQ9v0+ExdsMaA98ZuDHtUQBfZldt8TYlZHROUbO8Dh0B\n",
       "YO/nktirOiUoPzCt/ZfhvjL4z0MAjwKnlGGSVfJGXMNBYIo8e1aq6lkPg4AHmUBOZmYr5P8cS/3g\n",
       "PlVHimH7WR7E8COQHeklmhJotgHjVPAspnU1jxn91VR7UpHcC3wkHYNVxjy7+wTFoK/3S8n7IlYJ\n",
       "mOHdIUmlfGeDQXReQVX/TFgHhLH3w899ZnU+nvgB4NoJ6waIZD6gIc6yKD2ZsniiqlnG3PBYimUi\n",
       "bLZTrrgvADS2oB2GJFFMNZeCaP88aJiiMjYGUHCqozqF4rPX5gosCK0m3gXHecJSBaj+lNIxARjJ\n",
       "iw1VgL1H3eJ7WCW0hNcnnG5TOkQnaaapC6i7Wi8aeuWwADyKADz1MsACBwAABEFBmmNJ4Q8mUwIf\n",
       "//6plgAIwd3woogIvLbn9w7vzgyJDzCxNuv35NA48PiDL810a3bPE+9mVt6YSTz/7Tat2hZI0s84\n",
       "hxeJ3VvLS7g0T07locNYJCWgEvTWpXfiHul74lwzQ3K3NStRFQbf5B+GaYlt67YZz/3Mwpy0BrMw\n",
       "RC3Uoq3+VpfveUWhSvhQ7lJ+SEfq8vQ85WIQroNjSBK3hdG2pEjE/3u3/QMGo1GecpBDZnazPXKw\n",
       "zBhA6L8J2TNnZ/P5V/uKp29KjlYTHhc8e5LyU4te1kWm66FdPRH+8u0DLGTqdLPte+dy4swzwM4b\n",
       "oFHPYO8SsmzDZzwZxw34e2DvsW9p2L02+5uYCxQNulTKgFtmtnfhRFpWeRhW/LfYJhtRAMOKYFE8\n",
       "D+8NkVdcDb+bdOgtwUOdu1s6n5YLGJuKd35Z1khAqPthispS5HQxzsw5c8nygQNOUlvRhmB2YT3A\n",
       "J8U/pW6FbwS/NxzIKFpHTwzSAHw2wy8ttRW3ySW0luZ5V1HHzY7GkWoGIB8eBRfHX95QMl/yhwTS\n",
       "xVOjeV+YgApcKhvINlHKzBMX8QmuEvMzOcfz36tHhO7YKCKVPgF3AO75ycucDXq1qdlkyOFPYY1w\n",
       "gnc/93nCcsGzGJWZwEWPKjaYjzVJg1pBM8i5jbrNUxXCF9RKne/+1HRXgHFNb+OXSv3KjU/TwopU\n",
       "ShdtIkxq6JlIp30KwMUTYcvdph/yJ/qgxjP2thrZ4pv3jJZ/dJJo+xl8qeCSwnJ3GDn52bOHLnC0\n",
       "ajcBjCaQYckjRDQ0cG5+zWfa71NvKUwIDORAl22E4EkgYRPZ3laFVrHijoEUQcknsIgMkFp+0/QI\n",
       "cYDBLq1P5xeschcwEZBA5Oadp9FxzWqKeBdzInwbX0SNHg/KmvclZbCcGqF5Qg8T1eh+bNKwL7Sj\n",
       "L9B0UBX8S060YMZvOUKIkr9Ei4mXMQJ7Z659DjaehO17/BFfz+GlrBbM0LzmhFmiJIAEufoWKsuK\n",
       "HUxlyu1MXWapnx8PfHd9QWggiLHnhMpjeLvHyfD6Kj/MMFbK9P4CfKgyprr3Q9q/aPJBFDt21DGI\n",
       "Wd+oklgZzBTaDwz1nI7NwwuXVtYzze5gKZ+kNtKLykNz6tbki7McZopMQn3hnsAdyE96y1Z5BWvr\n",
       "bhjdmiBP92g/L6H+4wzhbv79q6V1mHuEjipR/zybZ78YObJXnzX9DAsEmct4DkcQ/5UQa4fAaPL6\n",
       "KYvhE48AYwS+BU2z3h8U6vxKFC/5e4G/4aiFIRcU7Hj322KUhYktpczLkFbGTPnoLw179hWOEdjY\n",
       "5fFC3rA0TGCnpUHZtIUIjirVGEpXDzPxeUMSJ1rLOll87l4PW2ofhQmXwan2s73J6Yv72WYZS5Jz\n",
       "+BVq9DiSoTk44wJYBm2MeGyvwBg/OYJ2x5/K8flqlXxM2v3pZY+Gzg2fkv/PP4wAABz6wf4AAAIM\n",
       "QZqESeEPJlMCH//+qZYACMHd8EiWRLtyv/COfBD4oVr7Z1pYkYEF9f6coovWCA6fcOmgEfcfD4e/\n",
       "n8HKZW4auabbrH3haPwa3UKgzUW2EQ1fEdmZD3VF1+gkTkegYtYHP2D6QcMXIm+uH/ITQeikeWc4\n",
       "KpXCBsWeDncGM7qSj+LtCmojXNLudJj2TdRN8cOYcCj6O6oWAocn0SY7+fZQsyeIxil6OLVQS+9w\n",
       "NG8xI/bLKBtTBMKpD4shE+99/CDUkrj38Sxv7fV2jYeA1EcPvVgXsbSQKXxYb2Mp6mCqCWc34h8x\n",
       "Tp7j0fEvWRnNub5SNBwYjXUHPU+mX1MiutdkXjOd/b9ZKcA6RoNoH074Pq0WaGxhqGGIceaGL50r\n",
       "gCafHiPENGgpto4FZUG/XdKcAGajcaGSywKUKdWonpcDnJ/pcqg3W3ecTLvnJMsZNqTkAtPzUt8e\n",
       "a2OcC/wbHgo5Qqyi2obzK4EFT/KFwp1y7AGdqlL5MjpFm5fs4A+FxDwRFoOo2Opj6qrR3aDAEOzH\n",
       "e6LZ3KpNt3XO7TUANCYLzyAc7DXEDvbUijs1m2OK03g2unH7a/efIm1d88EVIk+x1LsMEAk0GVFp\n",
       "DX5RDOkISKu9nkjVKLBqzNEN6m9+LCYCA4hqXMu6TlNOaMnjn8/ZygnYwaGg25tPPsm7RGbw3rne\n",
       "8sme0ywAAUdyxD0AAAJNQZqlSeEPJlMCCH/+qlUAAHU/qld6P7Eykd7icYv/COQ+ACH7bJUnHK/u\n",
       "pbyy9aV/rvqg5BjXEZN9rDYUwhklxu9FS8LD+OMCj2jdeu9LN/2LDUD0vTl5JQJqehwAvM0Ab7Me\n",
       "bkhicFgwfDDEfqmSK61j/TGqVPUrs6IQYMka8WC5etFHZClf71e0SXn5EWoK+MZUF6oP/mxHEnDf\n",
       "JgdrJeK40zNZZVhcFgNXMOhGSqUYs9LRId9ZWOrttFHCqzslJiDffT6UnlFnTCRB0Kj0pwDVl3Hw\n",
       "c4x6ZoxRa+Y9nyWBpM1C75tQYosbTqa/RN5ejLvqtKVtqKrtbW0Hgp3Qk6h+lzj7mfWNEVzute6M\n",
       "TGPVeXi/6Y8RYiXkbBwQDausAMVoPFseTlzxGyDIKsrnCw91diONpsXktbI2T7Mw3wB+BZ8L1ga1\n",
       "XLyLxABIDaUlCHr0R+2s0guP4KQqnbzxgMFyEMSXt/XQ5gzd4VHJEHeGpmfYvVAVPkx7omGP82vZ\n",
       "zLf9tegE+VmMKxvlFbkQluMYLM+mkqEDB0vs4jhs+/UeApfJY3UfvekXUJsD6CE8lPNufwYR4roX\n",
       "41ayUWSirGiqbggQrP7kWtm5HukUPH3bSgcj1gXm1d/40SyyvtfwtVtHOmldBc0xX+roDJOgY2B3\n",
       "tHkjb/g4WoJpw8H6u0uMUQ9cvdismRtQLHzaLGGv/sHB9xj82stJecvCpkzDk3nONTwmyq9EukSN\n",
       "Y+VidgjzrREMR8Za1kOUkdqzpjnVPuKmLOWX/vQXslBgQQAAAoZBmsZJ4Q8mUwIIf/6qVQAA+Zgv\n",
       "841FwAQjgOJ1+DCUQBUKhLVZBRpbmXh3uzIowrfbQfTxBisR3SrmRCiBly+1+e7GztbF63Qx0YVd\n",
       "2e+XCNMW1d1sNbuBj5V8Xe+jEf5abJ8q5//x1g2gPW/+Um8ys2Yb3pT4PIVwz0cgOSOi/VzXTRNj\n",
       "ZwQALvX1yn48vGLxx3tRc798Mujqu/mn6Rlh+dL4+7rNeEPqpQeqCWJOrbMBJUdWxK2p/7yusGE0\n",
       "Qk6+XH4dyGTZ6+nJhs3jzyd3hXngyJUKlqCIkRtl8qCyUL04qh22hfyu0nm26kjJojuxypCo9kv3\n",
       "xxF+ulougLNQeudnL1VS2m+ZBOfDUuQMoqbBGIOJdKoTRaY0kwhzSMFx77eEkPOymHzB+xIK3xdM\n",
       "SC2oi/GqwFBpri6kAaH5EcE2YMJs6VpuFyRqN5DZDs+fTE1UOHQPlYn1UlpeX2+zhBCEMIcj261E\n",
       "VOPed7oJnqvAv+3tu+AIvBShMTmIT142b63P7edJFlfcqseKhUUgRUkE7jrXeyM+xxVNw1LLDAsR\n",
       "N8h4U5sjRUYu7zAvfmWr0/EsY7ZqMbdu172VsL7/7FQAwb6ZSbJWuN91PsBV9JxiBf14IUrwC3Tn\n",
       "RIR82Anx5EA9tuqohReiNrNAtyVUEk0KZpzHMSwLUbt/ME6C7uiPkTPkBYOG3+euHstsAX7B+sjY\n",
       "WbcjFMMsfo8NDFAq4vRRsfljxhO6/uTrwxw4isQMzdGKT+kDVxsZa13Mpaw3HIMQO+R1TZgUqFUl\n",
       "IiwiiNGEtoMi0HOdzH6juRhw6d06psC4MNFEXlcOtO/ERLZGdr5KfEI3/7MiWCxVAwjcCEpMCNSB\n",
       "AAACeUGa50nhDyZTAgj//rUqgAEgbQ42I7fEg6Ua22wcFf9KytTE8dWdn/zdliWPpKz4cQODXOzm\n",
       "3g0LEV/zuPvfE9p0yF6zbweZQoZWz3Aq3nzNmbQX/6f0fba57m7/CKa7U4QH8c05ILRxBUUC2PiA\n",
       "F5l1tEEfrW6uRzEzOEuZged9XF8scqX/KRImhks4LHBzHjMDQEmD0p9BS0asPYtGJxWLC/SWmCxa\n",
       "ZqgSMMxM/e28ZSWo8uORWeICt0OA7/0OQzlfeAkyR0w/h7uRbKfvtsbC7DqwQUaNiL/pvKm9S3bK\n",
       "DkS/9Mkv84QpzMrvZMUJECy1ySLW0qEh6UzErSvtMdVAZtHDEebWk174ZTZUf1gFMKjA4VX5/FXz\n",
       "jBlwKbbg8ukMnttdVX5cxMofrwUE/3xKTq6eJK3026tgvlnXyQOHio/W6kfP3RLB9/W4jKyfRQDC\n",
       "XBweScRxgEv6oCmNLT7cvAdAbjKzzSxzyicfaaGBsFWpSMceO4bVi+6qP6GrVRtv3pX4TLvXwRHY\n",
       "Rmt7LXG8nvVF4Kr7HonZRXuaNgS5YWNl1qBBrTXi3UYAbadLPp1axo24nA1KkJhJCegT4OFzxx+T\n",
       "ZbXN/N7iF8E2mQi6iyK2UyLonFuAcGkwYgZDiy61SR+tgqBcsdrMoIiDmfKQvOuXMZ3ze3s6IYml\n",
       "h6mgDrD64lDRbAtDCUKux6o7tQlpJ1l6lHyIVDo+EaOaPdrfQ70LQKKFS8Lb5B516iGkfFeT4NRO\n",
       "HLsjX3JXtyaShUdJ6ncc6HXM0uXIfeg2VytM7WDVMciLLfI3o/mm2CuJkflr/Eo/h36BJC+SIquN\n",
       "AL1p0vej1qhNwQAABblBmwtJ4Q8mUwII//61KoAFvlBFUB0UAITt924J6X8bxCl9mrn7fdc2++2n\n",
       "HhuXsJxRGD2K1X+P4pWqKbWtKUXeZM8nbfzlvwy8Md6jMu+cwmPdThO/wSzS3MBWaqSUhGXKYTrs\n",
       "EkQ9tLLmEVnY0W4+7QORt2q1eL2SwLMD/X/8LDNgwPoJWCu37flNPfqCTBI2Fte/6U1Pr3gfRi5V\n",
       "z24hzZwNd7N5q0QDMImjtPaHboLKRPVu8vnTvQbC6aX9PUWR+iYH6xJn932VcJzv3as0S2mEH7bk\n",
       "x0FQ/yrotEqHESzHznb+wh+pD4zi/AWvwF/lJ4t+A7eNwhEfVMHAREPXv+u6S/ik9ATgVm2SSIu0\n",
       "KjOEWgKhil4jQNqvt78QiBz4P/vUTe3dJ3NibN+6lFppesGblzABpx4Kh7zOpsVjDXqwqOeW8IML\n",
       "r+VwtcK7C29YIVy4RnlkF9OTiBU7AgmvOhDKgo+4DXjxFWwwsWtymHbtPWJOjN34ZWBvkdqbIO2G\n",
       "0JbJSNRrpXKctgkZqcXdlR8edlmXiJJXDlXjVRld0HWnHRnv+mqz19gObB4joE/yn9Kf0hWIrQNB\n",
       "nmFn/IQrqCDCwc5ETj94Tg1eG0ArzqEnHka3rMlj6Pz/i/vBFQnxF5pQSsBMPUXjXKDcCJtemOxy\n",
       "BNv0s6q47HmNy1LcR3BIV/YZdqsZ0DS4hqMq4zTeWdjwVKpYheZJ0xDSIN5/EE7rDE9L/jwly0Lx\n",
       "1PmOVcTHYZ+AwJXKc5gxE5fqjLw1g4dRYbQEasPiU56UlUYmKEvSEGbijF76bX3+9d5iZV7RxiKX\n",
       "FqGYRwx1aPBM11QfR0udvfaymiWn409qrqXBFxAG01vhwByYNJHHEgfk74DA+D9eQYj/A/xaRhIP\n",
       "iMdfhW7gzoiqpJCLrC1zNavRWe7sfAY9iLSSEuvDMKd3bxUeV4T7+eFaM71FjfhJo7k4sezmWYeV\n",
       "FzBeltfj6hshROpIFFv3ntMiahfLePNnzO7q3OW70hX2Iv4hVoa/dKdJ7gW4QlMnamyQYJjerMsH\n",
       "hXgNz4WHbsCT9U7hQiKwL/MIsOxy+yY6bVece8mXeCHpC2I5so3IDUfS19Q4od2GBRk2duBvdE2A\n",
       "FgW0azOjCPjjZ9yZ26ZCKqPE7HU6nZqwOztZvZenvtRsKmyAH5AXvUrPGRQ0PyRN8yVTtHLv5k2c\n",
       "TF+aqkPNkrrPKwat/GfLir3xAqzovn8QpNvWxQJuUaST2rthZY2tYvT1B5xqrOHq8q5lapNoEJlb\n",
       "ryBMytPq7uxn09d0iyHO62PJ5qUBox+v5mwQGNoQ/iaMcuznLV96k680ujacBkGJoo1UUWoqjsR+\n",
       "mXOGFM3Eema2dDiKr5odNLFzwAeGroP5FIcpr1zWMf939dAnr/Kz5C4ALSncoa9+IkScFzBKd1C7\n",
       "D1ZsI8ZsBHL5SqFcajz9yKg2LdjxHzJFPakdYjhZdS2X+pIQs4aWE90RR+Ke/b8U+FlU38/tVuWe\n",
       "CAgNzn+nIyfVzKUGbRlbEC1NlgfxLbwvjDy0pe/rQENiSagYevD5CRZukfL/bsG1elVnuEM360V3\n",
       "yNDJKesianj14l3TPwh2Peo+XEu1ZaqWV3/dyvo6tX3iKj8zNZtK5Adx37vtFz7OyCEIjvYTxhV8\n",
       "hASg5BrCm75+6fChEeTyPoSD85E11kulVmX0Jegc0lbcjnkcTci/Eka3FQ6UgdHEGQSgQ3CXpXyE\n",
       "uu2mEGBzcXEDcjjop7LJQ5UuCLW27NhnvlckiI1EgmxVdbM3/1H/2evxuYE5AC4WI+B2C487eTIq\n",
       "hrslUwTUgzB7bZn6cy3jzj1lt5AlpcZGfotbuG1oQ8OhG+UPvvVY3tOCXrMEBW9/Iyx4cFQgpQaP\n",
       "WjbGfs2gP8yeKEANEjD4opq3tMdR0Vx+S0H4RuFybLNlq535zsh5/YjZHbANB41pfJ7RIRLwAAAB\n",
       "pUGfKUURPDv/AAnEf15uG6AD+EErdr8DAHOvmQzqmEv6iLPRqLivhRgG2i1BE4ihX0/Rget0Ed8v\n",
       "HYeKzheQbdNiHHSckfWVPu9DoS1hkfP+L7UbAl4FeabY2u0uTUNsWbpCzWTShnVx4NxeUoe4fBRY\n",
       "PO8ufyuUlPzYhbmy5kOxXVwMwlO2UG2/rFrxEJyZLm5iTap/veaovLT71Ob3oZwoe00xIEcSoUTm\n",
       "1+RyYL5DleNCD/LSw18IJnzZVO6V8scWlmafeUXTpz7P305IK91vMnjR1bZwmgLI13tK/tGQZSx5\n",
       "hBvkPiynOg53+IZP2ensQ6tHNLV+qRwdaOI3Okr73HdpnlXbC02YVrUu4Y593cdD8W6XWWgdZpVY\n",
       "WHete8fGrM4iLjLx79+lpte7j4Q0t39DSjAPolXDTsGEH4xIjh9Z63ALXhsQBplgeQPxonZOEETQ\n",
       "uxzwrw0eJjJNCscIdm3drUrKx8BNRZFIvvssAudmWoix2qojCy7PdCTxjS3ByJxb7JLDD4pDNobl\n",
       "y2WwGLSgYzoH9vUB9mOMYjbNdZzAAekAAACqAZ9IdEN/AA0yFb4TES1Qr9bc3aHD41Cwvy5dBpUp\n",
       "IIB4eASkmWbhQAerpSJRf1MoIaKYjp1MtdaMTCm1u4asSmDFxPNAAO2ZCurBREkn/QukkICrrQoy\n",
       "n11I1LIQq6rj/e6m3aNAmpFmSCqYRu5mvyYER663/63fMs+pKiyIk2y9xtxkx2BrspAJP1Hzbmmz\n",
       "Jh+/B24fYTXlM56v1+0Cg0fBqnDDTQAAekEAAAD6AZ9KakN/AA3RbkNmBsCWb23pHHy1FmomAEDU\n",
       "rKkEqNveX2Ulm5Loo3N08Pe83bLML88sgpFv7EfA1Hs6aiJtmR05XldsEmzRWJxnP1wwZE/OuQLn\n",
       "sYVui0AoN8mbcqc8EX8WMfKStR72UV1KSSwP67n5L80X6ubrnWAvuRKNcYMRdKhpLmB3X6TcLRGk\n",
       "nKiLa49h3lxScLn/zwcpInkhhH9MhDNWQedPC+0yWaOBZka/bGYBfFX21X6I8w/pARlspqof+OaM\n",
       "YrugNvx7wR/BvzEJHFzaIDuixtGRm0I8NIDZq1NcscYz0hZDlW9BmkKoGrJBXP9EkgALaAAABHJB\n",
       "m09JqEFomUwIIf/+qlUABW/HwAAnb58DVv+2MiqcTh5ieRnEUv1xkLl27YXNR1dhX2ny6yAZZSM4\n",
       "mU9pkUeZ9cLrrWbXSBGkYN7iBku4c6JlOGXUW3hSJ6pPbvUx60o1CclHjJKhgBWYI2FlyiDPTyM8\n",
       "FU9f90Xz6UhMZ/1/z1w+V7De6w4QOlJzz9kOtbVq+b0WcxjPy8sXgtUxcSf28hEKtK/K17anzhY8\n",
       "UMgvRLW6XzeUcgAD/GIjC85sNGn1KFgi1eoUrg0pbwSFsZTdwFWg47BbEJDppxJoVINGLdlZK3kO\n",
       "ULH/h6ztgxydBKxd2mpgHXlIFUJgwyz0kptwzOTA3TdNK0tzwY6DMvYnY2a9sP85ScdDKOvhLFXM\n",
       "iO/H/ilFr8VHeOlCm1MT0LG0RYsr3lcpXs/ScMAaEEYVXqeH7gVwwNEesgc13Ppoy6MUzEoaOt7z\n",
       "yVr7x//fpQxtg8OhS2VhOQS5buhPGbMOdHjeETptcFxTXBxn0vJsuypW5SRgdnMCSu5htQ3r6k8Y\n",
       "OOtbwZzGyM4OyX9wcJDE2a4OXDZVsi47ZsxtFNYw0eT9NHDpw4M9nkbpSXGhLfRcYTNSntJWcXtp\n",
       "UURF0QkZf9J/e0K8TU3RVERz9QSW/JSGmScYto5/Uk8HPx4cFtCLjhlMwFw2/1pbo5nhrjUVqodZ\n",
       "T8Ot3cqLF4E+z2qDPI1jmtGchtncL9w39owBTeODMvo9CQaBbavyPEZjVEI2lXbZ8AtBVqSa3Edk\n",
       "D5p9eKSZRiYnmwtQ+zfy4Kl8T9ZjvZrhoxTuUAdt8p4bHCdSZ2nYqAyuxysPNHYPg2W6jpei0kIt\n",
       "XMDMU0OTVMKwHge/PAQem5ytX+rI8HrZychCWtA9yqlkt63G7RGxWdw6HF4y/KvRnDJXMHIgeMRe\n",
       "s4pdu4xD02dgTdlfdS14Goqld1jP9PKeJzi5J0lDZOII0nCsLUuUCHE6Z8djYEp/uxqHavOYJJio\n",
       "Dkn3NJAGShA6Aut8quZtQSUZdWxa+eGkmQOqO+w0R3Cy9af9V46TnqvYQW/ffgNFrAz1r5G41bpw\n",
       "eCTD2w3ELtJ9BNjLc6S/p3s6pKwKnI7Hp45JJNKKdl69/paNlp7S3rgdIDCn59l1zwE3e6xftoyB\n",
       "NHyDy8FPpkcyLIuQCKzaWdx+YutMQaLN8Td3e9bjriKqEQfKk3Pq/2a60UnA5gEVs4AKk40Z5DK9\n",
       "hlG2FvY7jrqKixZLxZ14DGR1lKDIGNEtpfgdYmFL8b3MIj79Gb5vucLHeXHatbfgVrmLXZRCrjFW\n",
       "7XDUeCnt/e8cpOAT7fOmQyQ6FvvIvi2v3NlDazriPe5yidBIHfsI7q2tPtGeVR7qdFgE7CXDoQCA\n",
       "Kng9X5Ye4jDEHxTn1sNjL+WMSfOTN/0XaMmNF/QZJw8pvNOX9zX1QllrFi3wqiqraSFkylHtJs5I\n",
       "a6m/ynLQiHfU3tnpEAXUlNsJIlfHxhVBEEZA2Ue5Vt3HO6h0xq5j+0ZKHPngAAADAAAWYCQ8AAAC\n",
       "4kGfbUURLDv/AAqarGe6MkCDQAQ4loZbhWgCU0de/UH1pnJEcjs8J6nq19MXtjGddbXizvh5Mzui\n",
       "I5TtRljJ5dLrdyRQNFBerBQkVxeMXQSqNtqWzmplaNlnuNUjF2jkeVPyqK04vRcNkmsU0vFMqvvr\n",
       "uSw+GTR3xj2dNF6P+lq6COqghJvQG0gZpKvCmQ9TEfeM8vCTERS/w4n5vp4o/12zedhrydwOP64k\n",
       "iqNXjV6aUlVSst3WSWmGK9ZuDEa213HuEe/1/e7mqDJvSn3Ld/PAlXPvteTTCPv+2T6+dUrAqUND\n",
       "8Nujr7Wj2O41fOHK4EPWO9eOIWIGyEoHD1pkhee+AsRDaTpUs/6jwM0QiFl7Ak1mKOBsT/j11ndf\n",
       "3L1GdhMxDTrQWRKzW+supYKFdLqESNoacCb8HiP0uSuDRN24nyIn3+qUlZrli/FsWvwclnW1O9jY\n",
       "ag1Zca1ZAjKUP7DkRXiay/XM5A91TULNSQxrbszVLDLev8nD03MOTk/QxQi7ZPBMjKW34PDxffIf\n",
       "O6S/nrNbfpJ2YXgc8Cuyu34kwCB/901+1TS3XyIsmjCEj8QOuF7MjFpE8sjkWS8g3Yll4E+K6y0c\n",
       "D+Kvmz76p38uO4fWpBmPEZn5bkT+4cx51sU3ffxbSLSOp6x2oR1m1jKjOqPT64jkf1cBCUyxMSGI\n",
       "QUtjUeo47QXPI663Bx8e1LT9KVsg4c9KLi7qYEel2WmDlmYbHDHdJiymA7KAteIBSVVaQQRzQNeK\n",
       "RNxA2t9BGa8L11ownNupmMXy7a+M1ZH2Bq081x7rXyTmDgcqSueBQDCEkB0LYV7/xzlivwE7hwWr\n",
       "gg+gE0ZFxpH7RrYB38cS5YUCwxJbXll5lODh5jmJpizrvM+atitgg684PuddwgRlCeh1tQ4h+nlZ\n",
       "VXYu18cKJAY4VPaTBI7QEbd4DFdYbVav+9u5YRFBr4s6xGv3Db3gAv3vHkWH2MBpdOypj4oOmQAA\n",
       "AlEBn4x0Q38ADoHvhiIAIg1X/N2GDmfl3OeSoa/I99K4ixE9ClPriw+eajlZZSJom/rxBfeuJ0pD\n",
       "waOFQnge6IOeO8rjE8SwemjrMHIGSVkQxselqUyrEtnn+I6E9L6gTSzph5MxHObyaKjURntNmGgn\n",
       "zrq17jPGQVAF++ChNZEIOOTvAfAtatStuEK+WV+lWjyPQBDLu+vX52hFhaIeOOEKMSuFQsSTWh48\n",
       "FC85gZqqvky6PlitvBl1oWN/C86L/pXkOhc/BHT1eeMV+MkiSG5mbUtnFiAGIVe2cNyC0twRIw7P\n",
       "3pw8JbS6mvXqqsyGDPYNyLlX7p6J2RVGtrnsZWPJK9yooGwrZ3EBIedtEgSFQZ2Km+LG6auq/4ia\n",
       "P0YGyc5OTglAhbl3vQ4F/EjFO8h9rx+DO5YoBGPGRF7oeCwBSq9jX4KzJseUhNJaqZ/yV50gFWFV\n",
       "Z0jZki7YmCw/Ox4GptedoVQL81joZ2hbUKKOx17XoWmzgFjfZZpqj8oNwR88gZ+TYHTwtn11Parb\n",
       "3y0anZYnu56fZcyERcx4uBnjQIB2IV5ZunIq8YRLmW3fRRo9rZ5HLPgI+RKhMRp+gd06Vo5/acA+\n",
       "4sZLVoehMYqDi9RiegakrnlUc0wcQzzeJrplhWnbccuVKpk6jGhwkFeml/vgFesSE+82qx8JQsZM\n",
       "ivWrA7bQE/TEZl/vrUQjAbsNJtpvbzyMvJUgDd69vZlEyu86GSw9hREfAKEgLDiVtn4phQMyZnVl\n",
       "ZeBqoD1Th2Xe1QrD6S6VAGqyyoLp1uEMCQAAAWQBn45qQ38ADtqSaI9CekgABECQoQLDha7Bznn5\n",
       "ZeGbB0QiRsCR3otF2am6UObsUjox8gDbmV99dYatuBtLqCrCZTbccAN/ks7oVIkjf0pVn1q6A8JC\n",
       "Sinlt0ARzqWaknm7qK9f4ryfV7YIv+L2Ovbfe6kjgKm320eLI3hATj5Xs9/lmhRuQRnnZnKLlR4x\n",
       "Ftf8sVSHYJTTgATmdMG7yhlBHQNuW0e3XV0VhgDeQr98S8xyNPGbzwH5CZ18MoMoT9I56BHNjBOb\n",
       "z1LaEnLaPcCfwMliZ2CBggp/ukqWdJKLBnfX8TlBpqrljsjecpUPEfc4TJHd/Nqvz9r7Awy4X18k\n",
       "c9li2/eKfAIVItrS12jQmnLsVMdvaYeaNIefzp4HYlSrYCM+j7WJJ67yg9NaSshw2oWskfAkWlpp\n",
       "SC+UWZmRl8GxporFIlDFH9zQ1wkMKn08PoKJRgA3wUEWEYQYOJjvlW7FDQAAA4RBm5BJqEFsmUwI\n",
       "I//+tSqAArm2ZeYgAOXIKjZrJJKToBfIycrbMYm9jc3VJdXpWOlvfp0+a6xo2Tt6RUZf46gWvcMu\n",
       "Nf/IK6HOUBG5HmB5nVIwo3bxkI4ld8gsRQs3Wn1XbgDtijAJWgMUwcl+9U5vLgPKSFUzcjNeQGJV\n",
       "+tXz0HMc/HiYyenX8MD9IIrCNqlZq28iNWnI6P2WwEqHfiHe7kFoYxSDVTu3oYsGFeuYl05aevKO\n",
       "4kOw2nDYgCFllnQqzQJLcc/sGj/76y/tpW0d+jn+KoNeNRaLyw1KdEq3Vt0V2qm8Zr589uv3u5M5\n",
       "VJ/dWmcjeoIagMkHI/zXaEq83UMjHzUb1gT69flu9gxeYD4Oatmj66Py0sCSA7nbrz01S1idQF9J\n",
       "aozBk3ef8rEckBa7y3IMwzFNjtexD9UTBOKp92688a+WRSylt57koLlup7GFGb5pcV9keYwYY8Gj\n",
       "fCyOYJfvtGEaLl/pesqg5qrBnqLl/P8K1XQnWGThBof0XbJCKxTaaulkqFExlw/nI1WAE1Xwr73w\n",
       "a5UD8nM20JgukO2mJwYf1eyfyx8Ltivwu+nulcCjhHgaHfMch/3DhbGOmRFQKpFLhx0h8uAmNz2O\n",
       "8NSJ4LLpNwX1lmsnrjoOUHqOBwEP6xf+kzuWXnR0vlToIfTaURMkFZTF9h4MBfKet7sdJabCQj06\n",
       "3HnT7bEQ4i+KP0jUd1cL5wO4ge/OnAaMeGHPJctC8BDhyMrHJWyWI6z4ErKuYCo4RhF+RCGeF3Wd\n",
       "oKxatwu5Q9j/0VAHkLWRmO8LVXL7K4cWIJNFqt87JeunLxYQEErlIC3xUEFyIKd8ui0DlU7/Q2PF\n",
       "Bn2gimK50tgqrETdI4CtkHQMhK/fGrwP6S0+B3JVQBsQrHABTHlT/czjoW+PmKe3x62pUezczfA8\n",
       "iKgOrZyidp3+T2O7cKCQjDi/7eqbtfKnscrhbEERmkbQGINtQ9NdNSM0cBI9vUwl9D6K3JkHoKE2\n",
       "ajjDAm1WrUHdEQ+aT0gbFQY9r2Il+7ylrCMa/jOo24FljFEQA7I8sMH9rWNkXHPigDv/zGe5pShN\n",
       "0HjEVBqjgEVUza9v3tkPQggXfP1Et/3v3UwsijnK6svAOSIO3Y1sv0FNFxGeX7mSlXwXSkkQrOdU\n",
       "IAi57/+VSOIev6chG35YxUm7y4Vj7ES5q4v1Su1uNhrWq2AAAAUwQZu0SeEKUmUwIIf//qpVAAsn\n",
       "j4AA6V5wgR15hBzoumwFqgv0E0SwSGLIhSEv+Sa1jkvfRINMnuxY4vjJEPj71mELlj/l8WS2OFKR\n",
       "WGELBlwXKzNvRk0CcS922KU2wDhFf7ZvcEzmn3uelxZnx/cBfQFmSTznmPOCN+o9bx7Kx63eBbS2\n",
       "C/6Ye51ZYIESnRAG3ITMoYYrcmFAJrKC3pFpc9iBmn8v+HijhRbk4buhv3x9AhL15E4TWIMCgXcG\n",
       "jfCkiACAtzFfLrytInRqH4TPPIQmmA0yupJRJNKZJnhet5niTqdhbpUofHNoBuLDJ+6Ok1/bhFYH\n",
       "lmoWfMymc7oUmF2FUECrNDX6k5Sts/BjysuiG2gsRQqrSvratN36JfcWkMs+D8G4UMwVhCHcW85J\n",
       "KaV2qi28h9HEkTYPCOVMmubr/A85JOPAYF8J/u/5X26lvdzGGiO967oZegcxE9cAc/i9+nTPB2WB\n",
       "HFfQ4AInikcNOqfBTc2sBw4KwBuPQ3B+sUa4SvH/VR3b1qK0qZvD1uSKPRVcAVz5wPM8v+EL6WFF\n",
       "glLmyBN+AHxOB+muVGTJAtSMEAiALm/VlKBbJCC4ppbYQuyGCkHbd9+gsT0rgEmRh7igVKqo652f\n",
       "bdpCsMREb28O1LKZEHzmVd21bUKBzjluVPESG8BZTk/HZHDQ+hynR4orESG2L9hrZoQAakmUcuAa\n",
       "n3uNBhAyeQPcu949LjxE4nHiiXj+chtp3Zx9/fHzCSDfDY29E6SHfw9OejK3rKNaasLEkNRiLgPi\n",
       "4v1znhiAAQRitvkCm6m1QGfaoDwUopii+IRwb9IyxoEk5/02PsYZcUJ4bzzqdaKuarzMeNo+OSQ1\n",
       "ZOoRsnzZEOL164GkTRbR4sJ9mOLtgMo+LS4zGljM7pFrIusX24qgKazrdA2Y84Nx67K37FY69pkI\n",
       "JYo+qf0OHenO6OhPM5rJQax0jqwTbAkaB/z+H8bmSdC6cOLX7cz5HNhPDUKOGs3xcG322iH9xHik\n",
       "53neKZFSixAV7UeGi0FUjiHGt1Y+fZzaCa74lem/YnWOaVRCk3SvKFbruinjTpGNANwwgP7mCJCW\n",
       "EUhfq3RPguvUo7eD1o2zc6ly7YGNo0NavjMqyckwiW0gFv4N023ufbS1S0JqVoz52Z2bg7PV7UTb\n",
       "wU5SoANN3BtfT7OYg0Q9LcpTyvanx+IF1y4knl8rfwbHKDa/500JGySp2qzeqNAC5f5jIZ4uvfX7\n",
       "sXf9UttNbJpsErhboO9pfgx2QefGMDGpl9K/01iEGat6yFRr91Oz0mIBTmSkuS2hPzxWZyWsGHHB\n",
       "EDuTDRjOBYb+uh5aVrVCKU0Tc12OLOOUzeZS5RdVwmZnY3dLHjBL40x3K3Xicky6DVKuizBPBE8c\n",
       "d/0nNZRYNjMz0FKuXrHOzIZEVQuWlmSVx8tqSA/YzhIgizeaeFT3W6bAhGZWHfY1e3ZT0u9lhs95\n",
       "3JZA6jeDzaWaxsdW6IPkeTH8W1qzWLHKRRa3ml0O+muSry+V+gEmd7gXoYj5hNfOZWHPozfVPqJ+\n",
       "L7qed7FeywwX27PqwEAX7C0D2VgecEBWxQAKx0E9vrA7DJNPhfIZurLqzJXz+NvaRdBvt3kdrJvL\n",
       "rfa2E0GIXqwN2rKN0Gbzr3QYbwjhsiSxv1Pf9RRNrDBUgPT8s58hk7s2TXdYdh0HPsFL/AC2kYYt\n",
       "5pv9KpYOfX4QDI9JGpK6MowGdRyJfsKvPsnRb0ru/w7NLKpLi0UIR/PsgCCJkEi1+3rwy4G6CqAA\n",
       "AAFxQZ/SRTRMO/8AFcMXt7QAfpj2myukh8irECS51ISqxc/DqYNNITZEMa+tiWH1hkmEF5JkGJH5\n",
       "Ht8+Em1++4cHdLnCyT6q6vqoWDzdqONy/Y04z/eeeH1uKU71hLdXwsW0EcE3t/Huk21BygH1AF0P\n",
       "8dzV4NI3XDBp2bkIfvrR/j8BO7bnsJoW8s7hq0RfABWbTzgrV2sSO/pxwLtF4VvaM2wJQf9J0gP2\n",
       "TujB012ILO0hFUTnrl1tRctS3FBwiY0Uupi2XVXj8I1QMl83GlxOe3tmbriYgxBa9JW5XShHQVO+\n",
       "upnDyRQjxJTAK3NJ7gyBHWghuehQAaAblc4xo8cfnK84N88F9c8hbRKy7R/UwhaN0GxggpCsZRux\n",
       "MUTM6EU+ajiYqTCrXTv6VOjWRWvaI/H4UyKk8hkAh3RMQ4+bgjTYW/sEanWonsgyt9y32VNZLb8c\n",
       "BhCglZmkWZyx1z8jvi3BowAHOiKEzWrCNxiTtBfxAAABQQGf8XRDfwAeY97ZlOuAgBNNXvbjBJ8M\n",
       "q2stKdC8m65TWdip4diYX3D5ZcRdQaWGsYXkHkxqX2/3Kk8s+JLX6wbT92n5Rdt204KUVpvAy4zX\n",
       "4QkATiGer+u+FWo402wEyd2oaJipiPcT9c7AuG0QgG07GrawYUyFbyJon/fjPs3539HPPcWne02y\n",
       "bYzdRhVIwzlARR4HXy8QMhNBEuIE9EPhKXJQbjJx1g6F3RkYp21aqJNigbNUQC324A5RW2Eic+3P\n",
       "1ivk8dtBInmykKX5ba25NnIY4zE6sX9Gb1qKD+XJUOdDt3IaGHFJWrzPs2Jw1FD/oTfu9Jfm+ik3\n",
       "K9BOqaY15my9LfZS2klKtEyYeqJDaaqPK/xPQRcQSSJoLubISLndaYgpGBx7monj/cw6+0qm3JyV\n",
       "RKZfposyxNgAADbyoQAAAQEBn/NqQ38AHbKIqOKQAmrsJcU1uBsxdbyayL/XjfuByHxNcnbYep1i\n",
       "Ls8ko/9jqzyzBih1yH1aixa1jRx9rBBrlIVkhqk28UnqWCEhcOuZgxAO03e3fO47bMi5d8EAEp1q\n",
       "swX4cR5yyoSt/CyNcZ1r0D+5/4BBnIeueqw+/qo2IvaE2mz+M3scCK84zsrBJdeOoOhtntvd19Zh\n",
       "5pAPuND1fF/jFyxO2KiX296W7AhACGInZaWc3IzgB6mUlJnmHTPK54F1jgEkxz/HKLq4FWAftdUW\n",
       "l7yNYveHh1Xh3hc8DEX7CGzKEcl0Jq76MgNPZ15zjRhCzqgzw/8ScoAAMUdFwAAAAl9Bm/VJqEFo\n",
       "mUwIIf/+qlUACyeJvADpXnJUrFLL+0RI2yQAa7GP8t0PARR7/VjJrwaALVrBZK5sQ0mWKXGncLCw\n",
       "vd565gpY8qHUCvJ8UMQ6FI6icND72D9K/nmG56Ro4P1Lyb0QYm4s8DiJCIQSAJyTHk4WYbcsnpfs\n",
       "5wmKsHugFj/PQAUGafhP9KRolTZ6XkKWW8CqXK2PuO46zRAmIlXvzksMOqvHgWE8+ixLQIgojpVS\n",
       "VoV1GhPjiXl2GGRWj2X3piGg8hDTlpxAlws2fuU4W+bB2Eu1Eg75uxvHTNAPBRs6K5GUO8Gz3Hw2\n",
       "KiwB/mYZ25bm4YVHEmXMFGw6bLOd7X0MRlDo6mlsgePiwQUKVdHG72AnVMgwwuP0znbH+CAZKYmc\n",
       "edF5IOHJYVauxHhRPeaJCs2/rDPBQ9GCzLOB60WHt+opc6EyytxkVyq7VJpUj+ubb/QmdlNcfZfQ\n",
       "t/bfLvkp/nYa+Q+LDsH+BXdzkiFtA8xTiUHV6dCNVG4UxrAci0pp0CA1GyRbz895DkgBnMVpfpN3\n",
       "malptbkUAD9BQmIus7R5Wvl22UlGIXXSIKWmrVrSsziZV1TrPyZxNysBqAQDpRXdYMHWVGTqrPce\n",
       "jfmwSEa0E7uN7NF42KJ01clbkXg29q92ZddE6iFfPzTRmYf599tQ7sueEFhEtE/Z61LI0lT9XwT2\n",
       "cB7mGkJGDYatmBSr9Mu46Unq/vxHzAIlcjsnsMeuQ8y5FYhKh5FdESQ60W6glHgb/eRxzZARMPfY\n",
       "g/xqNgAECpuKFFQU95UT0B4m1Odc+NFBPWNegAJvAAACXEGaFknhClJlMCCP//61KoAFlJ+kAFh+\n",
       "lZYuKoHQv8fWZ0+oYinLSSqxgAiqUZVkt4y44g2Aa6QkX8TBXLL6SUSK+2mv1llWb7piNm1BLNQ1\n",
       "ScY6IVnXooGqq1/mvXVVrctsFVYgAylTnNxkUw4h6rX4QN5ZKd8dyJGIoDmhP32a73e2/YZhrDM3\n",
       "wvkfjJvjdqmCT5slkmhl777oNeN5+lICslf2GgUQzookbx4Y/7phgZPJG+V7It9bUUSs37H0QT/p\n",
       "WKRQ8MPmndUcWyRY4oefnjC/JX7Yv8flWjX+G8ZZ1+ZyrE0pQj4BGVweh75BcQG1MdhnHJ6p80G8\n",
       "uUG5JM6lNhWgKVM6Ui3USFB55vRmRqKb5tIgSPawGq0PcvfbpogqfSQvJzZZYl8piuqj2odph4N1\n",
       "EUzYi3GEP2yJKk46NU39S7GpoiGGnjki4fodDfhD0Heg6DlaU0BZ5AcQAaGvZdkWJCRCjc0X/YHr\n",
       "zRfNX6RySCCBTrrkgJHn4/tSLngPH0HiMU5idOFqfS0iWPpFqE6nZnIYG2MblcTpg4JGznBlNzKo\n",
       "X8rtvDwdTh8R1SyvkLWQt2EiNA9hZjOU9yuL7Bervl94PAYGvmmp3GKIY6ubldWvYLlAv9pNiFDh\n",
       "8L4zljqTvC2yxmijYMVvxL+hvraznnqxulMMR6agZAUokY+9byAkFR+P1PHDcv5w59kYl/m9j6g6\n",
       "YZXHUa5P/4BbquX657HqiVHmfWEJWjWJXDcRYqW67jpakYHh57O4Wztk2klyz/6f6rQ9gqL1LHgo\n",
       "kgU1JrHmz9D5d0AAAAMJQZo6SeEOiZTAgj/+tSqABZc5OagCKZqYVctj71XG4kM3aaPkGh2NXVLo\n",
       "259b/PTY3mK/FcKjf8v0ZcaR2pc88tZR3qf7v8luUj7CNUaCFCyIxZZIL2GLbqIXBuE1DZR2lTUw\n",
       "Soa/cJlidCvpH6ZOAryWCsFlTtvTbXNNDEBwUrdli0KA6wzy/7DVlCucGFcf6H4KHtuhCPknSmPf\n",
       "p9gv++ewDwUtHfUUXsL+ylIqJWfTLHKA4V8FuOjoDmehCZulXfeaceaz6qEG3agCva3VG9NKbNmi\n",
       "q5osA7WqEERAdx4y3AaYIpsQNHXOK8U0vzAuprBWJ4lf2q1WrVsSPH2InRJj0DxnjgZvfYRx1MUv\n",
       "7YsV/xddmjqoWApaLOs4prhQVpzO8YOuknesIJ1Rq9kzOu4fD3mnJ5uqBsM9qdiZxnW0rKAW0625\n",
       "pLOhdthrlFffGmo/gxpECYAqImkGVwmQk84KhzD79K/koHCG2KoDY+ZpJCHtpD/Tgzw9PzzPdinp\n",
       "Fk7PFNDtpYkTQUiVYJ+4CwsqsjFz1W3KIhWJxIwdNKY+ETa/kl6NyvyJNHIB0bXuE17cOSisfnkv\n",
       "99/lukINbfSnAtxM4XuhTh3kCHEy1L+N0yIByuW+OG9TI2nSDMu9KXadgjLeZ1gVDVpCs4RMcD+w\n",
       "87y4V6k256KS43tnMoBjbCANUG28obW2QMfEDTVV1Gr1otzg2kMUf6Oyv4NOxwoB3chfX/82w/tM\n",
       "a/Kx791zJO/ULl18SPjGDyXUVk8Ld11hdEkFOletWrHMdZi2+T+oVwbMJLTH27sfp5b7Oy3gRDGS\n",
       "Suxs4/lhc2zE0YTJWeLqR0viSr4TrXlxy0mB0hs2SiyWz1nJW219spD5pKtAo1f9TxIK0qrM5/Km\n",
       "zim1RYRSpAtiwhg0JqrEMeFDEb+vPWgd8VUJ54I8ywR23XwhXL2E+WzTconEQvp0O4yRLp3GyI7l\n",
       "zuQsP4iyRCIjFnV0LBZEKApsV17kewN/sLAIRvcqeNU+x7W6iF8q2FMho5imgACJVQrxAAAAv0Ge\n",
       "WEURPDv/AAsrhmn4cAH8rERfWKD6CzO9YhtYLCHGmC+OoxdLV1P6KNgnnnznvGCIP5BNgo9/Eha/\n",
       "jaJ5f1WP7HMq8Ccg9a3dB/6qyiIdFQX6PDXn9MNOd+iJQ0KoFmWkSZTIGmpvUzoAA1iUot4vUVT9\n",
       "MPqUGDV5LucI1mHBHDFjltIc3UU8gG5dP6jIpXxLq/ej22l/HQX9PdmcsZY5gY0KfkcC65ekOLfJ\n",
       "HiVKpKr4K2ecAAHaGWGjoI3tAAAAgAGed3RDfwAeY+V3avDugATq2AZSa2da6gQ3b0zvcM214Y8d\n",
       "8Jz7ZPl+N3wAlccKhDfR6oT3lnqSA22+orial5ywc1aS5eXYb+Dvky0TnxnuqIyYSLuJUI3QrdJE\n",
       "ZT6qXZ0vA49CP39THmM/I6bh1PaUNHWeeSN+AABrsbwgULlAAAAAKgGeeWpDfwAPiUXelNYRHGwg\n",
       "oJVwLEchD1OB/5BQFM0IiakAAMRBkcwaEQAAAYlBmn5JqEFomUwII//+tSqABZbRVWAIxcwsI8gr\n",
       "9UlJH3qeR9Lf4Mx5ZQD8XLDneWzuWv3p7tIKx/0/PWDNNymmgnVnv+3hDJ+eD5scWr0TmwknBJc7\n",
       "KBWDJFlh3VYOSx86pQ3UMOiv+mh0dXqI0m0C8+q5eI1TAzX+ujEFfWHAB+jTf30A3V2WGzW1jA/4\n",
       "tIXkWw+nsrFYNP8rwf4KV6Q4rnCYPC/V6cTVSOtmqk96O2nIrSzKQq8YkPT9yq7WbJeQWzfyPDJO\n",
       "x6cbk7PuJGp5wGc2tIgl6GsqXieRQ2utz+Dg4rZQXkdhUOdO2U0pTPuY4m7hJSQRnf0tzLCMG1sk\n",
       "inoWk4+pS3iy6uYlhN+BUnOSm1hePzWgM1C0ETcSIUUjkWP8+nWdhkKj47FyT0oP0SvSd6a2JfxA\n",
       "vBvXbyyJj7fOP1KrLQePZJLB/XRv+b9Gk3AGtwf1HNImIW4bSBntymuhjW0wrcksR0y/YHJbrsBM\n",
       "2ND5B14ZrCRFZLpezQ2GJqkwNmY1NMAAAAA7QZ6cRREsO/8AFcMa1279emfak7yIAVVTyCEZkagX\n",
       "FesWPuCjrFkgfS6pEhkiBjbv8O4AAEhLRzWHfEEAAAAhAZ67dEN/AB5dPLbMLz+lab4qXY/Hm5OC\n",
       "KaE0GAADhA3pAAAAHAGevWpDfwAPiURTrTAhkNRnHdW46wH5AAbtJlQAAADjQZqiSahBbJlMCCP/\n",
       "/rUqgAJwefclD9eF9z9pgBGV3UwAbgmR6lW0zhNdWgqYCd9I8i1Z+SxOdPddqcDVzkS/Sl12z8L3\n",
       "ff8JH1Tuq8UEWGsXZNcTpIibZGFlMH/lPWX0fojxwiTgz+/CCFbby+9YWFIwFV1DM4pt2QaWon6F\n",
       "xPxIImfI/5FyjBIm8YDSVrZmN2V1e9EsiZjceQJIlffe85X6vk+FHFc2Dsdgq1dxZXld11Z/V3pK\n",
       "10vIvJfB2OC9KzLrG/oQxZ2PIs1XnnT7pkHZj6eWG7gqj2iEN1cBY8AAB/gAAAAnQZ7ARRUsO/8A\n",
       "CyuGEGNFOvgROQkQkUHOtK0NlquT9AAAMsXFMCLhAAAAHgGe/3RDfwAPhp5TZQMWgcPAktpRiUdU\n",
       "sgAAifjpgAAAABsBnuFqQ38AD4lES3i9q0ua7tcNNkvQgAcMw88AAADCQZrmSahBbJlMCCP//rUq\n",
       "gAWW+oyAEMAHEmz42s2pcMhWQKBZ8yjC4GBAV/aKWAZFspj5PqIE+L2tyZDV6Dw13qa0AyPCEmMY\n",
       "idRz+RcCk6Wrv0wq4y9L6Ba5w/4lU7GOuSMNx/nHHnV35ul/7wh6hWzutGns6GS/DuLSsPeflL3N\n",
       "Bd/nzb50Mz4Q1IqFYa++VI3chbFXd2u+zdvPjJCGwMxnHanMLXoh9Dy4B+zLlcmrNRmrHPSkrMaP\n",
       "ZS8HmyIAAP8AAAAlQZ8ERRUsO/8ACyuGEG9gbTCma+Y/hcQYv3iQiy0gACwPLZgNmQAAABkBnyN0\n",
       "Q38AD4aeKfbK6qCox4i4yoACGLmtAAAAGwGfJWpDfwAPiURTrbrcxG+sKJITBHUABGDj/QAAAK1B\n",
       "mypJqEFsmUwIIf/+qlUACypAzY34ABwfPxx0inZzaYHH3a/TTUYLARYy0Xz6pE6kpm0GTM6AV/ZF\n",
       "TXFDGhDqDPOCic09eeQclqogud9DyC8TG7E1YNY+oACX82SXwwOQcvPOMkrEat6/+F6v7WZN+IzT\n",
       "lW1ACqMguM6H3IhIgVAwIzEeb5tILZD4TCoq80Ao74p3N2HqXpgQ8/usPaUvJsbBkDyZwFQ6wAAB\n",
       "4QAAACdBn0hFFSw7/wAVwxrXbwPJkEBAbAGa/3sT3cgcsqtXsAABFCgngVsAAAAdAZ9ndEN/AA+G\n",
       "nlNlIhB+ZZx7st7o6dggAAtLMvAAAAAcAZ9pakN/AA+JRFOtutzEh0qttmGaQncAATyJVQAAAI1B\n",
       "m25JqEFsmUwIf//+qZYAKmj3uSrUtACTrbkdvkogxSYjLnRtzpmFDt0A4cz0mWjmygnPLFXsAhPf\n",
       "ZJYX5drT5Wmv2zOB5NtMndcuttgIZkrm/jNYbTIxQBRv0S3M8Ent+xl0PZuUEA3xtnoIKbWfVZcN\n",
       "y/EA02jlzl3hkV2vhMD9lGlmIe9wVhAAAgYAAAAlQZ+MRRUsO/8ACyuGEGwwNeoze+Y+YpjHDG12\n",
       "p9lAAHuaCKAu4AAAAB0Bn6t0Q38AD4agYG69oLPtfo2NsKBhraAAANIjbQAAABsBn61qQ38AD4lE\n",
       "U6263MRvrCiSEwR1AARg4/0AAAAcQZuxSahBbJlMCG///qeEAAT83MCndZ3foADFgQAAACNBn9BC\n",
       "G/8AD4qVYPUhGLkEfyczL4WgWqIdRprIAAK/3D4BnQAAABsBn+9pEN8AD4aeU2XnXeaDTdE5tJkU\n",
       "ABGDkfAAAAVHbW9vdgAAAGxtdmhkAAAAAAAAAAAAAAAAAAAD6AAAE4gAAQAAAQAAAAAAAAAAAAAA\n",
       "AAEAAAAAAAAAAAAAAAAAAAABAAAAAAAAAAAAAAAAAABAAAAAAAAAAAAAAAAAAAAAAAAAAAAAAAAA\n",
       "AAAAAAAAAgAABHF0cmFrAAAAXHRraGQAAAADAAAAAAAAAAAAAAABAAAAAAAAE4gAAAAAAAAAAAAA\n",
       "AAAAAAAAAAEAAAAAAAAAAAAAAAAAAAABAAAAAAAAAAAAAAAAAABAAAAAAfQAAAGQAAAAAAAkZWR0\n",
       "cwAAABxlbHN0AAAAAAAAAAEAABOIAAAIAAABAAAAAAPpbWRpYQAAACBtZGhkAAAAAAAAAAAAAAAA\n",
       "AAAoAAAAyABVxAAAAAAALWhkbHIAAAAAAAAAAHZpZGUAAAAAAAAAAAAAAABWaWRlb0hhbmRsZXIA\n",
       "AAADlG1pbmYAAAAUdm1oZAAAAAEAAAAAAAAAAAAAACRkaW5mAAAAHGRyZWYAAAAAAAAAAQAAAAx1\n",
       "cmwgAAAAAQAAA1RzdGJsAAAAtHN0c2QAAAAAAAAAAQAAAKRhdmMxAAAAAAAAAAEAAAAAAAAAAAAA\n",
       "AAAAAAAAAfQBkABIAAAASAAAAAAAAAABAAAAAAAAAAAAAAAAAAAAAAAAAAAAAAAAAAAAAAAAAAAA\n",
       "GP//AAAAMmF2Y0MBZAAW/+EAGWdkABas2UCAM+fhAAADAAEAAAMAFA8WLZYBAAZo6+PLIsAAAAAc\n",
       "dXVpZGtoQPJfJE/FujmlG88DI/MAAAAAAAAAGHN0dHMAAAAAAAAAAQAAADIAAAQAAAAAFHN0c3MA\n",
       "AAAAAAAAAQAAAAEAAAFgY3R0cwAAAAAAAAAqAAAACAAACAAAAAABAAAUAAAAAAEAAAgAAAAAAQAA\n",
       "AAAAAAABAAAEAAAAAAEAABQAAAAAAQAACAAAAAABAAAAAAAAAAEAAAQAAAAAAQAACAAAAAABAAAU\n",
       "AAAAAAEAAAgAAAAAAQAAAAAAAAABAAAEAAAAAAIAAAgAAAAAAQAAFAAAAAABAAAIAAAAAAEAAAAA\n",
       "AAAAAQAABAAAAAABAAAUAAAAAAEAAAgAAAAAAQAAAAAAAAABAAAEAAAAAAEAABQAAAAAAQAACAAA\n",
       "AAABAAAAAAAAAAEAAAQAAAAAAQAAFAAAAAABAAAIAAAAAAEAAAAAAAAAAQAABAAAAAABAAAUAAAA\n",
       "AAEAAAgAAAAAAQAAAAAAAAABAAAEAAAAAAEAABQAAAAAAQAACAAAAAABAAAAAAAAAAEAAAQAAAAA\n",
       "AQAAEAAAAAABAAAIAAAAAAEAAAAAAAAAHHN0c2MAAAAAAAAAAQAAAAEAAAAyAAAAAQAAANxzdHN6\n",
       "AAAAAAAAAAAAAAAyAAAWJAAAArYAAAMzAAAERQAAAhAAAAJRAAACigAAAn0AAAW9AAABqQAAAK4A\n",
       "AAD+AAAEdgAAAuYAAAJVAAABaAAAA4gAAAU0AAABdQAAAUUAAAEFAAACYwAAAmAAAAMNAAAAwwAA\n",
       "AIQAAAAuAAABjQAAAD8AAAAlAAAAIAAAAOcAAAArAAAAIgAAAB8AAADGAAAAKQAAAB0AAAAfAAAA\n",
       "sQAAACsAAAAhAAAAIAAAAJEAAAApAAAAIQAAAB8AAAAgAAAAJwAAAB8AAAAUc3RjbwAAAAAAAAAB\n",
       "AAAALAAAAGJ1ZHRhAAAAWm1ldGEAAAAAAAAAIWhkbHIAAAAAAAAAAG1kaXJhcHBsAAAAAAAAAAAA\n",
       "AAAALWlsc3QAAAAlqXRvbwAAAB1kYXRhAAAAAQAAAABMYXZmNTYuNDAuMTAx\n",
       "\">\n",
       "  Your browser does not support the video tag.\n",
       "</video>"
      ],
      "text/plain": [
       "<IPython.core.display.HTML object>"
      ]
     },
     "execution_count": 47,
     "metadata": {},
     "output_type": "execute_result"
    }
   ],
   "source": [
    "fig = plt.figure(dpi=100, figsize=(5,4))\n",
    "plt.scatter(x, y)\n",
    "line, = plt.plot(x, lin(a_guess,b_guess, x))\n",
    "plt.close()\n",
    "\n",
    "def animate(i):\n",
    "    line.set_ydata(lin(a_guess, b_guess, x))\n",
    "    for i in range(10): update()\n",
    "    return line,\n",
    "\n",
    "ani = animation.FuncAnimation(fig, animate, np.arange(0, 50), interval=100)\n",
    "HTML(ani.to_html5_video())"
   ]
  },
  {
   "cell_type": "code",
   "execution_count": 40,
   "metadata": {},
   "outputs": [],
   "source": [
    "??plt.plot"
   ]
  },
  {
   "cell_type": "code",
   "execution_count": null,
   "metadata": {
    "collapsed": true
   },
   "outputs": [],
   "source": []
  },
  {
   "cell_type": "code",
   "execution_count": null,
   "metadata": {
    "collapsed": true
   },
   "outputs": [],
   "source": []
  }
 ],
 "metadata": {
  "kernelspec": {
   "display_name": "Python 3",
   "language": "python",
   "name": "python3"
  },
  "language_info": {
   "codemirror_mode": {
    "name": "ipython",
    "version": 3
   },
   "file_extension": ".py",
   "mimetype": "text/x-python",
   "name": "python",
   "nbconvert_exporter": "python",
   "pygments_lexer": "ipython3",
   "version": "3.6.1"
  }
 },
 "nbformat": 4,
 "nbformat_minor": 2
}
